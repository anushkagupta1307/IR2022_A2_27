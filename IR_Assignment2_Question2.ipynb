{
  "nbformat": 4,
  "nbformat_minor": 0,
  "metadata": {
    "colab": {
      "name": "IR_Assignment2_Question2.ipynb",
      "provenance": [],
      "collapsed_sections": [],
      "include_colab_link": true
    },
    "kernelspec": {
      "name": "python3",
      "display_name": "Python 3"
    },
    "language_info": {
      "name": "python"
    }
  },
  "cells": [
    {
      "cell_type": "markdown",
      "metadata": {
        "id": "view-in-github",
        "colab_type": "text"
      },
      "source": [
        "<a href=\"https://colab.research.google.com/github/anushkagupta1307/IR2022_A2_27/blob/main/IR_Assignment2_Question2.ipynb\" target=\"_parent\"><img src=\"https://colab.research.google.com/assets/colab-badge.svg\" alt=\"Open In Colab\"/></a>"
      ]
    },
    {
      "cell_type": "code",
      "execution_count": null,
      "metadata": {
        "colab": {
          "base_uri": "https://localhost:8080/"
        },
        "id": "XzWY47fFcYDo",
        "outputId": "cd529f6e-0da7-4e2d-d2a7-bfb687c5c3bc"
      },
      "outputs": [
        {
          "output_type": "stream",
          "name": "stdout",
          "text": [
            "Drive already mounted at /content/drive; to attempt to forcibly remount, call drive.mount(\"/content/drive\", force_remount=True).\n"
          ]
        }
      ],
      "source": [
        "#Mount the data files from google drive \n",
        "from google.colab import drive\n",
        "drive.mount('/content/drive')"
      ]
    },
    {
      "cell_type": "code",
      "source": [
        "#Import libraries\n",
        "import pandas as pd\n",
        "import pickle\n",
        "import numpy as np\n",
        "import matplotlib.pyplot as plt\n",
        "import math"
      ],
      "metadata": {
        "id": "M-6nNJWN_W5R"
      },
      "execution_count": null,
      "outputs": []
    },
    {
      "cell_type": "code",
      "source": [
        "#reading file from the path and reading line by line and extracting lines only with qid:4- creating a dataframe\n",
        "# with relevance score, qid and the score for frature 75\n",
        "path=\"/content/drive/MyDrive/IR-assignment-2-data.txt\"\n",
        "file=open(path, 'r',encoding='ISO-8859-1')\n",
        "read_lines=file.readlines()\n",
        "\n",
        "counter=0\n",
        "data_list=[]\n",
        "for temp in read_lines:\n",
        "\n",
        "  row_wise_data=temp.split(' ')\n",
        "  input_dictionary={}\n",
        "\n",
        "  if row_wise_data[1]=='qid:4':\n",
        "    first_column=int(row_wise_data[0])\n",
        "    \n",
        "    input_dictionary['relevance score']=first_column\n",
        "    second_column=(row_wise_data[1])\n",
        "    input_dictionary['id']=second_column\n",
        "    \n",
        "    counter=counter+1\n",
        "\n",
        "    #Extracting the score for feature 75\n",
        "    for iterator in row_wise_data:\n",
        "        temp_key_val= iterator.split(':') \n",
        "        if temp_key_val[0]=='75':\n",
        "          input_dictionary['75']=float(temp_key_val[1])\n",
        "\n",
        "    data_list.append(input_dictionary)\n",
        "  \n",
        "counter=str(counter)\n",
        "print(\"number of lines with qid:4 is - \"+counter)\n",
        "  "
      ],
      "metadata": {
        "colab": {
          "base_uri": "https://localhost:8080/"
        },
        "id": "xeC30Sqzx5tR",
        "outputId": "5c7bfd45-8f65-43c0-cd7c-4f06bbcc4b74"
      },
      "execution_count": null,
      "outputs": [
        {
          "output_type": "stream",
          "name": "stdout",
          "text": [
            "number of lines with qid:4 is - 103\n"
          ]
        }
      ]
    },
    {
      "cell_type": "markdown",
      "source": [
        "**Assignment2 Part A**"
      ],
      "metadata": {
        "id": "k5JVG8ri1xCi"
      }
    },
    {
      "cell_type": "code",
      "source": [
        "df = pd.DataFrame(data_list)\n",
        "df"
      ],
      "metadata": {
        "colab": {
          "base_uri": "https://localhost:8080/",
          "height": 423
        },
        "id": "uFXRV1Tv1woj",
        "outputId": "57c287e2-5a10-46cb-d6f3-d24d03807f4c"
      },
      "execution_count": null,
      "outputs": [
        {
          "output_type": "execute_result",
          "data": {
            "text/plain": [
              "     relevance score     id          75\n",
              "0                  0  qid:4   90.531710\n",
              "1                  0  qid:4  538.388954\n",
              "2                  0  qid:4   88.171761\n",
              "3                  0  qid:4  144.564444\n",
              "4                  1  qid:4  142.589323\n",
              "..               ...    ...         ...\n",
              "98                 0  qid:4   70.460443\n",
              "99                 1  qid:4  270.132330\n",
              "100                2  qid:4  296.023694\n",
              "101                1  qid:4  528.520116\n",
              "102                0  qid:4   84.625987\n",
              "\n",
              "[103 rows x 3 columns]"
            ],
            "text/html": [
              "\n",
              "  <div id=\"df-3be98f45-8883-4c73-9d5b-ca081624939c\">\n",
              "    <div class=\"colab-df-container\">\n",
              "      <div>\n",
              "<style scoped>\n",
              "    .dataframe tbody tr th:only-of-type {\n",
              "        vertical-align: middle;\n",
              "    }\n",
              "\n",
              "    .dataframe tbody tr th {\n",
              "        vertical-align: top;\n",
              "    }\n",
              "\n",
              "    .dataframe thead th {\n",
              "        text-align: right;\n",
              "    }\n",
              "</style>\n",
              "<table border=\"1\" class=\"dataframe\">\n",
              "  <thead>\n",
              "    <tr style=\"text-align: right;\">\n",
              "      <th></th>\n",
              "      <th>relevance score</th>\n",
              "      <th>id</th>\n",
              "      <th>75</th>\n",
              "    </tr>\n",
              "  </thead>\n",
              "  <tbody>\n",
              "    <tr>\n",
              "      <th>0</th>\n",
              "      <td>0</td>\n",
              "      <td>qid:4</td>\n",
              "      <td>90.531710</td>\n",
              "    </tr>\n",
              "    <tr>\n",
              "      <th>1</th>\n",
              "      <td>0</td>\n",
              "      <td>qid:4</td>\n",
              "      <td>538.388954</td>\n",
              "    </tr>\n",
              "    <tr>\n",
              "      <th>2</th>\n",
              "      <td>0</td>\n",
              "      <td>qid:4</td>\n",
              "      <td>88.171761</td>\n",
              "    </tr>\n",
              "    <tr>\n",
              "      <th>3</th>\n",
              "      <td>0</td>\n",
              "      <td>qid:4</td>\n",
              "      <td>144.564444</td>\n",
              "    </tr>\n",
              "    <tr>\n",
              "      <th>4</th>\n",
              "      <td>1</td>\n",
              "      <td>qid:4</td>\n",
              "      <td>142.589323</td>\n",
              "    </tr>\n",
              "    <tr>\n",
              "      <th>...</th>\n",
              "      <td>...</td>\n",
              "      <td>...</td>\n",
              "      <td>...</td>\n",
              "    </tr>\n",
              "    <tr>\n",
              "      <th>98</th>\n",
              "      <td>0</td>\n",
              "      <td>qid:4</td>\n",
              "      <td>70.460443</td>\n",
              "    </tr>\n",
              "    <tr>\n",
              "      <th>99</th>\n",
              "      <td>1</td>\n",
              "      <td>qid:4</td>\n",
              "      <td>270.132330</td>\n",
              "    </tr>\n",
              "    <tr>\n",
              "      <th>100</th>\n",
              "      <td>2</td>\n",
              "      <td>qid:4</td>\n",
              "      <td>296.023694</td>\n",
              "    </tr>\n",
              "    <tr>\n",
              "      <th>101</th>\n",
              "      <td>1</td>\n",
              "      <td>qid:4</td>\n",
              "      <td>528.520116</td>\n",
              "    </tr>\n",
              "    <tr>\n",
              "      <th>102</th>\n",
              "      <td>0</td>\n",
              "      <td>qid:4</td>\n",
              "      <td>84.625987</td>\n",
              "    </tr>\n",
              "  </tbody>\n",
              "</table>\n",
              "<p>103 rows × 3 columns</p>\n",
              "</div>\n",
              "      <button class=\"colab-df-convert\" onclick=\"convertToInteractive('df-3be98f45-8883-4c73-9d5b-ca081624939c')\"\n",
              "              title=\"Convert this dataframe to an interactive table.\"\n",
              "              style=\"display:none;\">\n",
              "        \n",
              "  <svg xmlns=\"http://www.w3.org/2000/svg\" height=\"24px\"viewBox=\"0 0 24 24\"\n",
              "       width=\"24px\">\n",
              "    <path d=\"M0 0h24v24H0V0z\" fill=\"none\"/>\n",
              "    <path d=\"M18.56 5.44l.94 2.06.94-2.06 2.06-.94-2.06-.94-.94-2.06-.94 2.06-2.06.94zm-11 1L8.5 8.5l.94-2.06 2.06-.94-2.06-.94L8.5 2.5l-.94 2.06-2.06.94zm10 10l.94 2.06.94-2.06 2.06-.94-2.06-.94-.94-2.06-.94 2.06-2.06.94z\"/><path d=\"M17.41 7.96l-1.37-1.37c-.4-.4-.92-.59-1.43-.59-.52 0-1.04.2-1.43.59L10.3 9.45l-7.72 7.72c-.78.78-.78 2.05 0 2.83L4 21.41c.39.39.9.59 1.41.59.51 0 1.02-.2 1.41-.59l7.78-7.78 2.81-2.81c.8-.78.8-2.07 0-2.86zM5.41 20L4 18.59l7.72-7.72 1.47 1.35L5.41 20z\"/>\n",
              "  </svg>\n",
              "      </button>\n",
              "      \n",
              "  <style>\n",
              "    .colab-df-container {\n",
              "      display:flex;\n",
              "      flex-wrap:wrap;\n",
              "      gap: 12px;\n",
              "    }\n",
              "\n",
              "    .colab-df-convert {\n",
              "      background-color: #E8F0FE;\n",
              "      border: none;\n",
              "      border-radius: 50%;\n",
              "      cursor: pointer;\n",
              "      display: none;\n",
              "      fill: #1967D2;\n",
              "      height: 32px;\n",
              "      padding: 0 0 0 0;\n",
              "      width: 32px;\n",
              "    }\n",
              "\n",
              "    .colab-df-convert:hover {\n",
              "      background-color: #E2EBFA;\n",
              "      box-shadow: 0px 1px 2px rgba(60, 64, 67, 0.3), 0px 1px 3px 1px rgba(60, 64, 67, 0.15);\n",
              "      fill: #174EA6;\n",
              "    }\n",
              "\n",
              "    [theme=dark] .colab-df-convert {\n",
              "      background-color: #3B4455;\n",
              "      fill: #D2E3FC;\n",
              "    }\n",
              "\n",
              "    [theme=dark] .colab-df-convert:hover {\n",
              "      background-color: #434B5C;\n",
              "      box-shadow: 0px 1px 3px 1px rgba(0, 0, 0, 0.15);\n",
              "      filter: drop-shadow(0px 1px 2px rgba(0, 0, 0, 0.3));\n",
              "      fill: #FFFFFF;\n",
              "    }\n",
              "  </style>\n",
              "\n",
              "      <script>\n",
              "        const buttonEl =\n",
              "          document.querySelector('#df-3be98f45-8883-4c73-9d5b-ca081624939c button.colab-df-convert');\n",
              "        buttonEl.style.display =\n",
              "          google.colab.kernel.accessAllowed ? 'block' : 'none';\n",
              "\n",
              "        async function convertToInteractive(key) {\n",
              "          const element = document.querySelector('#df-3be98f45-8883-4c73-9d5b-ca081624939c');\n",
              "          const dataTable =\n",
              "            await google.colab.kernel.invokeFunction('convertToInteractive',\n",
              "                                                     [key], {});\n",
              "          if (!dataTable) return;\n",
              "\n",
              "          const docLinkHtml = 'Like what you see? Visit the ' +\n",
              "            '<a target=\"_blank\" href=https://colab.research.google.com/notebooks/data_table.ipynb>data table notebook</a>'\n",
              "            + ' to learn more about interactive tables.';\n",
              "          element.innerHTML = '';\n",
              "          dataTable['output_type'] = 'display_data';\n",
              "          await google.colab.output.renderOutput(dataTable, element);\n",
              "          const docLink = document.createElement('div');\n",
              "          docLink.innerHTML = docLinkHtml;\n",
              "          element.appendChild(docLink);\n",
              "        }\n",
              "      </script>\n",
              "    </div>\n",
              "  </div>\n",
              "  "
            ]
          },
          "metadata": {},
          "execution_count": 127
        }
      ]
    },
    {
      "cell_type": "code",
      "source": [
        "#getting the unique values of relevance scores\n",
        "df['relevance score'].unique()"
      ],
      "metadata": {
        "colab": {
          "base_uri": "https://localhost:8080/"
        },
        "id": "xsuBnebRMRAd",
        "outputId": "194bd9ac-41b3-4cd8-99af-ab0e1c68105b"
      },
      "execution_count": null,
      "outputs": [
        {
          "output_type": "execute_result",
          "data": {
            "text/plain": [
              "array([0, 1, 3, 2])"
            ]
          },
          "metadata": {},
          "execution_count": 128
        }
      ]
    },
    {
      "cell_type": "code",
      "source": [
        "len(df)"
      ],
      "metadata": {
        "colab": {
          "base_uri": "https://localhost:8080/"
        },
        "id": "BAZMQ86kvZy1",
        "outputId": "8ef61c38-80b8-4189-c852-244637dcb608"
      },
      "execution_count": null,
      "outputs": [
        {
          "output_type": "execute_result",
          "data": {
            "text/plain": [
              "103"
            ]
          },
          "metadata": {},
          "execution_count": 129
        }
      ]
    },
    {
      "cell_type": "markdown",
      "source": [
        "**Question 2 Part(B)**"
      ],
      "metadata": {
        "id": "3Cy6KtRfioxo"
      }
    },
    {
      "cell_type": "code",
      "source": [
        "#sorting the dataframe based on relevance score\n",
        "dataframe_sorted=df.sort_values('relevance score',ascending=False)\n",
        "dataframe_sorted.to_csv('question2_partB.csv')"
      ],
      "metadata": {
        "id": "Ky7gqT5elRfC"
      },
      "execution_count": null,
      "outputs": []
    },
    {
      "cell_type": "code",
      "source": [
        "dataframe_sorted"
      ],
      "metadata": {
        "colab": {
          "base_uri": "https://localhost:8080/",
          "height": 423
        },
        "id": "8OqjxzzHn2Zl",
        "outputId": "ebdb5915-09b3-41c7-ffd2-63d8d0547365"
      },
      "execution_count": null,
      "outputs": [
        {
          "output_type": "execute_result",
          "data": {
            "text/plain": [
              "     relevance score     id          75\n",
              "7                  3  qid:4  411.010633\n",
              "76                 2  qid:4  108.548081\n",
              "40                 2  qid:4  192.953467\n",
              "36                 2  qid:4  217.848266\n",
              "90                 2  qid:4  311.705149\n",
              "..               ...    ...         ...\n",
              "44                 0  qid:4  148.415271\n",
              "43                 0  qid:4  148.415271\n",
              "42                 0  qid:4  169.844071\n",
              "41                 0  qid:4  212.401296\n",
              "102                0  qid:4   84.625987\n",
              "\n",
              "[103 rows x 3 columns]"
            ],
            "text/html": [
              "\n",
              "  <div id=\"df-37d0539e-0508-43cf-b99d-5d65e76befb6\">\n",
              "    <div class=\"colab-df-container\">\n",
              "      <div>\n",
              "<style scoped>\n",
              "    .dataframe tbody tr th:only-of-type {\n",
              "        vertical-align: middle;\n",
              "    }\n",
              "\n",
              "    .dataframe tbody tr th {\n",
              "        vertical-align: top;\n",
              "    }\n",
              "\n",
              "    .dataframe thead th {\n",
              "        text-align: right;\n",
              "    }\n",
              "</style>\n",
              "<table border=\"1\" class=\"dataframe\">\n",
              "  <thead>\n",
              "    <tr style=\"text-align: right;\">\n",
              "      <th></th>\n",
              "      <th>relevance score</th>\n",
              "      <th>id</th>\n",
              "      <th>75</th>\n",
              "    </tr>\n",
              "  </thead>\n",
              "  <tbody>\n",
              "    <tr>\n",
              "      <th>7</th>\n",
              "      <td>3</td>\n",
              "      <td>qid:4</td>\n",
              "      <td>411.010633</td>\n",
              "    </tr>\n",
              "    <tr>\n",
              "      <th>76</th>\n",
              "      <td>2</td>\n",
              "      <td>qid:4</td>\n",
              "      <td>108.548081</td>\n",
              "    </tr>\n",
              "    <tr>\n",
              "      <th>40</th>\n",
              "      <td>2</td>\n",
              "      <td>qid:4</td>\n",
              "      <td>192.953467</td>\n",
              "    </tr>\n",
              "    <tr>\n",
              "      <th>36</th>\n",
              "      <td>2</td>\n",
              "      <td>qid:4</td>\n",
              "      <td>217.848266</td>\n",
              "    </tr>\n",
              "    <tr>\n",
              "      <th>90</th>\n",
              "      <td>2</td>\n",
              "      <td>qid:4</td>\n",
              "      <td>311.705149</td>\n",
              "    </tr>\n",
              "    <tr>\n",
              "      <th>...</th>\n",
              "      <td>...</td>\n",
              "      <td>...</td>\n",
              "      <td>...</td>\n",
              "    </tr>\n",
              "    <tr>\n",
              "      <th>44</th>\n",
              "      <td>0</td>\n",
              "      <td>qid:4</td>\n",
              "      <td>148.415271</td>\n",
              "    </tr>\n",
              "    <tr>\n",
              "      <th>43</th>\n",
              "      <td>0</td>\n",
              "      <td>qid:4</td>\n",
              "      <td>148.415271</td>\n",
              "    </tr>\n",
              "    <tr>\n",
              "      <th>42</th>\n",
              "      <td>0</td>\n",
              "      <td>qid:4</td>\n",
              "      <td>169.844071</td>\n",
              "    </tr>\n",
              "    <tr>\n",
              "      <th>41</th>\n",
              "      <td>0</td>\n",
              "      <td>qid:4</td>\n",
              "      <td>212.401296</td>\n",
              "    </tr>\n",
              "    <tr>\n",
              "      <th>102</th>\n",
              "      <td>0</td>\n",
              "      <td>qid:4</td>\n",
              "      <td>84.625987</td>\n",
              "    </tr>\n",
              "  </tbody>\n",
              "</table>\n",
              "<p>103 rows × 3 columns</p>\n",
              "</div>\n",
              "      <button class=\"colab-df-convert\" onclick=\"convertToInteractive('df-37d0539e-0508-43cf-b99d-5d65e76befb6')\"\n",
              "              title=\"Convert this dataframe to an interactive table.\"\n",
              "              style=\"display:none;\">\n",
              "        \n",
              "  <svg xmlns=\"http://www.w3.org/2000/svg\" height=\"24px\"viewBox=\"0 0 24 24\"\n",
              "       width=\"24px\">\n",
              "    <path d=\"M0 0h24v24H0V0z\" fill=\"none\"/>\n",
              "    <path d=\"M18.56 5.44l.94 2.06.94-2.06 2.06-.94-2.06-.94-.94-2.06-.94 2.06-2.06.94zm-11 1L8.5 8.5l.94-2.06 2.06-.94-2.06-.94L8.5 2.5l-.94 2.06-2.06.94zm10 10l.94 2.06.94-2.06 2.06-.94-2.06-.94-.94-2.06-.94 2.06-2.06.94z\"/><path d=\"M17.41 7.96l-1.37-1.37c-.4-.4-.92-.59-1.43-.59-.52 0-1.04.2-1.43.59L10.3 9.45l-7.72 7.72c-.78.78-.78 2.05 0 2.83L4 21.41c.39.39.9.59 1.41.59.51 0 1.02-.2 1.41-.59l7.78-7.78 2.81-2.81c.8-.78.8-2.07 0-2.86zM5.41 20L4 18.59l7.72-7.72 1.47 1.35L5.41 20z\"/>\n",
              "  </svg>\n",
              "      </button>\n",
              "      \n",
              "  <style>\n",
              "    .colab-df-container {\n",
              "      display:flex;\n",
              "      flex-wrap:wrap;\n",
              "      gap: 12px;\n",
              "    }\n",
              "\n",
              "    .colab-df-convert {\n",
              "      background-color: #E8F0FE;\n",
              "      border: none;\n",
              "      border-radius: 50%;\n",
              "      cursor: pointer;\n",
              "      display: none;\n",
              "      fill: #1967D2;\n",
              "      height: 32px;\n",
              "      padding: 0 0 0 0;\n",
              "      width: 32px;\n",
              "    }\n",
              "\n",
              "    .colab-df-convert:hover {\n",
              "      background-color: #E2EBFA;\n",
              "      box-shadow: 0px 1px 2px rgba(60, 64, 67, 0.3), 0px 1px 3px 1px rgba(60, 64, 67, 0.15);\n",
              "      fill: #174EA6;\n",
              "    }\n",
              "\n",
              "    [theme=dark] .colab-df-convert {\n",
              "      background-color: #3B4455;\n",
              "      fill: #D2E3FC;\n",
              "    }\n",
              "\n",
              "    [theme=dark] .colab-df-convert:hover {\n",
              "      background-color: #434B5C;\n",
              "      box-shadow: 0px 1px 3px 1px rgba(0, 0, 0, 0.15);\n",
              "      filter: drop-shadow(0px 1px 2px rgba(0, 0, 0, 0.3));\n",
              "      fill: #FFFFFF;\n",
              "    }\n",
              "  </style>\n",
              "\n",
              "      <script>\n",
              "        const buttonEl =\n",
              "          document.querySelector('#df-37d0539e-0508-43cf-b99d-5d65e76befb6 button.colab-df-convert');\n",
              "        buttonEl.style.display =\n",
              "          google.colab.kernel.accessAllowed ? 'block' : 'none';\n",
              "\n",
              "        async function convertToInteractive(key) {\n",
              "          const element = document.querySelector('#df-37d0539e-0508-43cf-b99d-5d65e76befb6');\n",
              "          const dataTable =\n",
              "            await google.colab.kernel.invokeFunction('convertToInteractive',\n",
              "                                                     [key], {});\n",
              "          if (!dataTable) return;\n",
              "\n",
              "          const docLinkHtml = 'Like what you see? Visit the ' +\n",
              "            '<a target=\"_blank\" href=https://colab.research.google.com/notebooks/data_table.ipynb>data table notebook</a>'\n",
              "            + ' to learn more about interactive tables.';\n",
              "          element.innerHTML = '';\n",
              "          dataTable['output_type'] = 'display_data';\n",
              "          await google.colab.output.renderOutput(dataTable, element);\n",
              "          const docLink = document.createElement('div');\n",
              "          docLink.innerHTML = docLinkHtml;\n",
              "          element.appendChild(docLink);\n",
              "        }\n",
              "      </script>\n",
              "    </div>\n",
              "  </div>\n",
              "  "
            ]
          },
          "metadata": {},
          "execution_count": 131
        }
      ]
    },
    {
      "cell_type": "code",
      "source": [
        "#getting all the relevance scores in a list\n",
        "relvance_list=[]\n",
        "for i in range(len(dataframe_sorted)):\n",
        "  relvance_list.append(dataframe_sorted['relevance score'][i])\n",
        "\n"
      ],
      "metadata": {
        "id": "Fwtw3C6ruopb"
      },
      "execution_count": null,
      "outputs": []
    },
    {
      "cell_type": "code",
      "source": [
        "#sort the relevance scores in descending order\n",
        "relvance_list.sort(reverse=True)"
      ],
      "metadata": {
        "id": "OgrurZrAvbbv"
      },
      "execution_count": null,
      "outputs": []
    },
    {
      "cell_type": "code",
      "source": [
        "#calculating factorial values of each score\n",
        "import math\n",
        "count_value=df.sort_values('relevance score',ascending=False)['relevance score'].value_counts().tolist()\n",
        "count_factorial_values=[]\n",
        "for i in range(len(count_value)):\n",
        "  count_factorial_values.append(math.factorial(count_value[i]))\n"
      ],
      "metadata": {
        "id": "sd5UivBMlU1j"
      },
      "execution_count": null,
      "outputs": []
    },
    {
      "cell_type": "code",
      "source": [
        "#getting the number of files which can be made using maxDCG-by multiplying the number of ways each relevance score can be taken\n",
        "number_of_ways=1\n",
        "for i in range(len(count_factorial_values)):\n",
        "  number_of_ways=number_of_ways*count_factorial_values[i]\n",
        "\n",
        "print(\"Number of files which could be made are :: \")\n",
        "print(number_of_ways)"
      ],
      "metadata": {
        "colab": {
          "base_uri": "https://localhost:8080/"
        },
        "id": "nFIICvv6nOxz",
        "outputId": "2810a958-2169-4ade-f02d-65baeb577b63"
      },
      "execution_count": null,
      "outputs": [
        {
          "output_type": "stream",
          "name": "stdout",
          "text": [
            "Number of files which could be made are :: \n",
            "19893497375938370599826047614905329896936840170566570588205180312704857992695193482412686565431050240000000000000000000000\n"
          ]
        }
      ]
    },
    {
      "cell_type": "markdown",
      "source": [
        "**Question 2 Part(C)**"
      ],
      "metadata": {
        "id": "b_hjvJAUonJ6"
      }
    },
    {
      "cell_type": "markdown",
      "source": [
        "**Full Dataset**"
      ],
      "metadata": {
        "id": "_sVXh00mzyvm"
      }
    },
    {
      "cell_type": "code",
      "source": [
        "#calculating DCG for complete dataset\n",
        "k=len(df)\n",
        "\n",
        "\n",
        "dcg_of_docs_with_qid_4=df['relevance score'][0]\n",
        "relecance_score_curr_doc=0\n",
        "for i in range(1,len(df),1):\n",
        "  relecance_score_curr_doc=df['relevance score'][i]\n",
        "  divisor=i+1\n",
        "  dcg_of_docs_with_qid_4=dcg_of_docs_with_qid_4+(relecance_score_curr_doc)/math.log2(divisor)\n",
        "\n",
        "  if(i>=k):\n",
        "    break;\n",
        "    \n",
        "print(\"DCG for qid:4 is :: \",dcg_of_docs_with_qid_4)"
      ],
      "metadata": {
        "colab": {
          "base_uri": "https://localhost:8080/"
        },
        "id": "S9I4yaY7lU4H",
        "outputId": "819f6774-9189-4a61-b07b-7d29e55908c8"
      },
      "execution_count": null,
      "outputs": [
        {
          "output_type": "stream",
          "name": "stdout",
          "text": [
            "DCG for qid:4 is ::  12.550247459532576\n"
          ]
        }
      ]
    },
    {
      "cell_type": "code",
      "source": [
        "#sort in descending order\n",
        "relvance_list\n",
        "relvance_list = np.sort(relvance_list)[::-1]\n",
        "relvance_list\n"
      ],
      "metadata": {
        "colab": {
          "base_uri": "https://localhost:8080/"
        },
        "id": "yejJJuwNyItR",
        "outputId": "c8013640-0644-4a40-c437-9274c698b250"
      },
      "execution_count": null,
      "outputs": [
        {
          "output_type": "execute_result",
          "data": {
            "text/plain": [
              "array([3, 2, 2, 2, 2, 2, 2, 2, 2, 2, 2, 2, 2, 2, 2, 2, 2, 2, 1, 1, 1, 1,\n",
              "       1, 1, 1, 1, 1, 1, 1, 1, 1, 1, 1, 1, 1, 1, 1, 1, 1, 1, 1, 1, 1, 1,\n",
              "       0, 0, 0, 0, 0, 0, 0, 0, 0, 0, 0, 0, 0, 0, 0, 0, 0, 0, 0, 0, 0, 0,\n",
              "       0, 0, 0, 0, 0, 0, 0, 0, 0, 0, 0, 0, 0, 0, 0, 0, 0, 0, 0, 0, 0, 0,\n",
              "       0, 0, 0, 0, 0, 0, 0, 0, 0, 0, 0, 0, 0, 0, 0])"
            ]
          },
          "metadata": {},
          "execution_count": 137
        }
      ]
    },
    {
      "cell_type": "code",
      "source": [
        "relvance_list[0]"
      ],
      "metadata": {
        "colab": {
          "base_uri": "https://localhost:8080/"
        },
        "id": "tK9trNgOyjPR",
        "outputId": "95f1722e-0957-4899-cc6a-684882fb63a9"
      },
      "execution_count": null,
      "outputs": [
        {
          "output_type": "execute_result",
          "data": {
            "text/plain": [
              "3"
            ]
          },
          "metadata": {},
          "execution_count": 138
        }
      ]
    },
    {
      "cell_type": "code",
      "source": [
        "#calculating IDCG for dataset- which is the maximum DCG as the relevance scores are in descending order\n",
        "k=len(df)\n",
        "\n",
        "\n",
        "idcg_of_docs_with_qid_4=relvance_list[0]\n",
        "relecance_score_curr_doc=0\n",
        "for i in range(1,len(df),1):\n",
        "  relecance_score_curr_doc=relvance_list[i]\n",
        "  \n",
        "  divisor=i+1\n",
        "  idcg_of_docs_with_qid_4=idcg_of_docs_with_qid_4+(relecance_score_curr_doc)/math.log2(divisor)\n",
        "\n",
        "  if(i>=k):\n",
        "    break;\n",
        "    \n",
        "print(\"IDCG for qid:4 is :: \",idcg_of_docs_with_qid_4)\n"
      ],
      "metadata": {
        "colab": {
          "base_uri": "https://localhost:8080/"
        },
        "id": "ne6ESQsPyZ0M",
        "outputId": "4918d06d-5a9a-46f5-aec4-916d7dcb34aa"
      },
      "execution_count": null,
      "outputs": [
        {
          "output_type": "stream",
          "name": "stdout",
          "text": [
            "IDCG for qid:4 is ::  20.989750804831445\n"
          ]
        }
      ]
    },
    {
      "cell_type": "code",
      "source": [
        "#get the NDCG= DCG/IDCG\n",
        "ndcg=dcg_of_docs_with_qid_4/idcg_of_docs_with_qid_4\n",
        "print(\"NDCG for qid:4 is :: \",ndcg)"
      ],
      "metadata": {
        "colab": {
          "base_uri": "https://localhost:8080/"
        },
        "id": "r1McruCFwdPN",
        "outputId": "a6f0fd45-a34c-44d4-9a2d-087e4469b583"
      },
      "execution_count": null,
      "outputs": [
        {
          "output_type": "stream",
          "name": "stdout",
          "text": [
            "NDCG for qid:4 is ::  0.5979226516897831\n"
          ]
        }
      ]
    },
    {
      "cell_type": "markdown",
      "source": [
        "**For K=50**"
      ],
      "metadata": {
        "id": "aRRnJdDEz8JO"
      }
    },
    {
      "cell_type": "code",
      "source": [
        "#calculating DCG for K=50\n",
        "k=50\n",
        "\n",
        "\n",
        "dcg_of_docs_with_qid_4=df['relevance score'][0]\n",
        "relecance_score_curr_doc=0\n",
        "for i in range(1,len(df),1):\n",
        "  relecance_score_curr_doc=df['relevance score'][i]\n",
        "  divisor=i+1\n",
        "  dcg_of_docs_with_qid_4=dcg_of_docs_with_qid_4+(relecance_score_curr_doc)/math.log2(divisor)\n",
        "\n",
        "  if(i>=k):\n",
        "    break;\n",
        "    \n",
        "print(\"DCG for qid:4 is for K=50 :: \",dcg_of_docs_with_qid_4)\n"
      ],
      "metadata": {
        "colab": {
          "base_uri": "https://localhost:8080/"
        },
        "id": "uh7CeBDnwdR9",
        "outputId": "1de6d1c8-b82d-4cb6-e3f7-d343fbba377b"
      },
      "execution_count": null,
      "outputs": [
        {
          "output_type": "stream",
          "name": "stdout",
          "text": [
            "DCG for qid:4 is for K=50 ::  7.390580969258021\n"
          ]
        }
      ]
    },
    {
      "cell_type": "code",
      "source": [
        "#calculating IDCG for K=50\n",
        "k=50\n",
        "\n",
        "\n",
        "idcg_of_docs_with_qid_4=relvance_list[0]\n",
        "relecance_score_curr_doc=0\n",
        "for i in range(1,len(df),1):\n",
        "  relecance_score_curr_doc=relvance_list[i]\n",
        "\n",
        "  divisor=i+1\n",
        "\n",
        "  idcg_of_docs_with_qid_4=idcg_of_docs_with_qid_4+(relecance_score_curr_doc)/math.log2(divisor)\n",
        "\n",
        "  if(i>=k):\n",
        "    break;\n",
        "    \n",
        "print(\"IDCG for qid:4 is at k=50 :: \",idcg_of_docs_with_qid_4)"
      ],
      "metadata": {
        "colab": {
          "base_uri": "https://localhost:8080/"
        },
        "id": "AUWwvp74tDve",
        "outputId": "6bd0480d-3986-4465-851a-01c30c9c5ca5"
      },
      "execution_count": null,
      "outputs": [
        {
          "output_type": "stream",
          "name": "stdout",
          "text": [
            "IDCG for qid:4 is at k=50 ::  20.989750804831445\n"
          ]
        }
      ]
    },
    {
      "cell_type": "code",
      "source": [
        "#Ndcg for k=50\n",
        "ndcg=dcg_of_docs_with_qid_4/idcg_of_docs_with_qid_4\n",
        "print(\"NDCG for qid:4 is :: \",ndcg)"
      ],
      "metadata": {
        "colab": {
          "base_uri": "https://localhost:8080/"
        },
        "id": "txV79eiv0agC",
        "outputId": "c9a3c5b4-217b-4e75-c641-5d5e324536bd"
      },
      "execution_count": null,
      "outputs": [
        {
          "output_type": "stream",
          "name": "stdout",
          "text": [
            "NDCG for qid:4 is ::  0.3521042740324887\n"
          ]
        }
      ]
    },
    {
      "cell_type": "markdown",
      "source": [
        "**Question Part D**"
      ],
      "metadata": {
        "id": "5pabFR5h2LXH"
      }
    },
    {
      "cell_type": "code",
      "source": [
        "df"
      ],
      "metadata": {
        "colab": {
          "base_uri": "https://localhost:8080/",
          "height": 423
        },
        "id": "WVfGJO-80f9R",
        "outputId": "cd2d25fe-6b04-4392-8f11-f26a97e2c710"
      },
      "execution_count": null,
      "outputs": [
        {
          "output_type": "execute_result",
          "data": {
            "text/plain": [
              "     relevance score     id          75\n",
              "0                  0  qid:4   90.531710\n",
              "1                  0  qid:4  538.388954\n",
              "2                  0  qid:4   88.171761\n",
              "3                  0  qid:4  144.564444\n",
              "4                  1  qid:4  142.589323\n",
              "..               ...    ...         ...\n",
              "98                 0  qid:4   70.460443\n",
              "99                 1  qid:4  270.132330\n",
              "100                2  qid:4  296.023694\n",
              "101                1  qid:4  528.520116\n",
              "102                0  qid:4   84.625987\n",
              "\n",
              "[103 rows x 3 columns]"
            ],
            "text/html": [
              "\n",
              "  <div id=\"df-ebdfd5ce-7e59-419b-908d-5c7ddd1939c5\">\n",
              "    <div class=\"colab-df-container\">\n",
              "      <div>\n",
              "<style scoped>\n",
              "    .dataframe tbody tr th:only-of-type {\n",
              "        vertical-align: middle;\n",
              "    }\n",
              "\n",
              "    .dataframe tbody tr th {\n",
              "        vertical-align: top;\n",
              "    }\n",
              "\n",
              "    .dataframe thead th {\n",
              "        text-align: right;\n",
              "    }\n",
              "</style>\n",
              "<table border=\"1\" class=\"dataframe\">\n",
              "  <thead>\n",
              "    <tr style=\"text-align: right;\">\n",
              "      <th></th>\n",
              "      <th>relevance score</th>\n",
              "      <th>id</th>\n",
              "      <th>75</th>\n",
              "    </tr>\n",
              "  </thead>\n",
              "  <tbody>\n",
              "    <tr>\n",
              "      <th>0</th>\n",
              "      <td>0</td>\n",
              "      <td>qid:4</td>\n",
              "      <td>90.531710</td>\n",
              "    </tr>\n",
              "    <tr>\n",
              "      <th>1</th>\n",
              "      <td>0</td>\n",
              "      <td>qid:4</td>\n",
              "      <td>538.388954</td>\n",
              "    </tr>\n",
              "    <tr>\n",
              "      <th>2</th>\n",
              "      <td>0</td>\n",
              "      <td>qid:4</td>\n",
              "      <td>88.171761</td>\n",
              "    </tr>\n",
              "    <tr>\n",
              "      <th>3</th>\n",
              "      <td>0</td>\n",
              "      <td>qid:4</td>\n",
              "      <td>144.564444</td>\n",
              "    </tr>\n",
              "    <tr>\n",
              "      <th>4</th>\n",
              "      <td>1</td>\n",
              "      <td>qid:4</td>\n",
              "      <td>142.589323</td>\n",
              "    </tr>\n",
              "    <tr>\n",
              "      <th>...</th>\n",
              "      <td>...</td>\n",
              "      <td>...</td>\n",
              "      <td>...</td>\n",
              "    </tr>\n",
              "    <tr>\n",
              "      <th>98</th>\n",
              "      <td>0</td>\n",
              "      <td>qid:4</td>\n",
              "      <td>70.460443</td>\n",
              "    </tr>\n",
              "    <tr>\n",
              "      <th>99</th>\n",
              "      <td>1</td>\n",
              "      <td>qid:4</td>\n",
              "      <td>270.132330</td>\n",
              "    </tr>\n",
              "    <tr>\n",
              "      <th>100</th>\n",
              "      <td>2</td>\n",
              "      <td>qid:4</td>\n",
              "      <td>296.023694</td>\n",
              "    </tr>\n",
              "    <tr>\n",
              "      <th>101</th>\n",
              "      <td>1</td>\n",
              "      <td>qid:4</td>\n",
              "      <td>528.520116</td>\n",
              "    </tr>\n",
              "    <tr>\n",
              "      <th>102</th>\n",
              "      <td>0</td>\n",
              "      <td>qid:4</td>\n",
              "      <td>84.625987</td>\n",
              "    </tr>\n",
              "  </tbody>\n",
              "</table>\n",
              "<p>103 rows × 3 columns</p>\n",
              "</div>\n",
              "      <button class=\"colab-df-convert\" onclick=\"convertToInteractive('df-ebdfd5ce-7e59-419b-908d-5c7ddd1939c5')\"\n",
              "              title=\"Convert this dataframe to an interactive table.\"\n",
              "              style=\"display:none;\">\n",
              "        \n",
              "  <svg xmlns=\"http://www.w3.org/2000/svg\" height=\"24px\"viewBox=\"0 0 24 24\"\n",
              "       width=\"24px\">\n",
              "    <path d=\"M0 0h24v24H0V0z\" fill=\"none\"/>\n",
              "    <path d=\"M18.56 5.44l.94 2.06.94-2.06 2.06-.94-2.06-.94-.94-2.06-.94 2.06-2.06.94zm-11 1L8.5 8.5l.94-2.06 2.06-.94-2.06-.94L8.5 2.5l-.94 2.06-2.06.94zm10 10l.94 2.06.94-2.06 2.06-.94-2.06-.94-.94-2.06-.94 2.06-2.06.94z\"/><path d=\"M17.41 7.96l-1.37-1.37c-.4-.4-.92-.59-1.43-.59-.52 0-1.04.2-1.43.59L10.3 9.45l-7.72 7.72c-.78.78-.78 2.05 0 2.83L4 21.41c.39.39.9.59 1.41.59.51 0 1.02-.2 1.41-.59l7.78-7.78 2.81-2.81c.8-.78.8-2.07 0-2.86zM5.41 20L4 18.59l7.72-7.72 1.47 1.35L5.41 20z\"/>\n",
              "  </svg>\n",
              "      </button>\n",
              "      \n",
              "  <style>\n",
              "    .colab-df-container {\n",
              "      display:flex;\n",
              "      flex-wrap:wrap;\n",
              "      gap: 12px;\n",
              "    }\n",
              "\n",
              "    .colab-df-convert {\n",
              "      background-color: #E8F0FE;\n",
              "      border: none;\n",
              "      border-radius: 50%;\n",
              "      cursor: pointer;\n",
              "      display: none;\n",
              "      fill: #1967D2;\n",
              "      height: 32px;\n",
              "      padding: 0 0 0 0;\n",
              "      width: 32px;\n",
              "    }\n",
              "\n",
              "    .colab-df-convert:hover {\n",
              "      background-color: #E2EBFA;\n",
              "      box-shadow: 0px 1px 2px rgba(60, 64, 67, 0.3), 0px 1px 3px 1px rgba(60, 64, 67, 0.15);\n",
              "      fill: #174EA6;\n",
              "    }\n",
              "\n",
              "    [theme=dark] .colab-df-convert {\n",
              "      background-color: #3B4455;\n",
              "      fill: #D2E3FC;\n",
              "    }\n",
              "\n",
              "    [theme=dark] .colab-df-convert:hover {\n",
              "      background-color: #434B5C;\n",
              "      box-shadow: 0px 1px 3px 1px rgba(0, 0, 0, 0.15);\n",
              "      filter: drop-shadow(0px 1px 2px rgba(0, 0, 0, 0.3));\n",
              "      fill: #FFFFFF;\n",
              "    }\n",
              "  </style>\n",
              "\n",
              "      <script>\n",
              "        const buttonEl =\n",
              "          document.querySelector('#df-ebdfd5ce-7e59-419b-908d-5c7ddd1939c5 button.colab-df-convert');\n",
              "        buttonEl.style.display =\n",
              "          google.colab.kernel.accessAllowed ? 'block' : 'none';\n",
              "\n",
              "        async function convertToInteractive(key) {\n",
              "          const element = document.querySelector('#df-ebdfd5ce-7e59-419b-908d-5c7ddd1939c5');\n",
              "          const dataTable =\n",
              "            await google.colab.kernel.invokeFunction('convertToInteractive',\n",
              "                                                     [key], {});\n",
              "          if (!dataTable) return;\n",
              "\n",
              "          const docLinkHtml = 'Like what you see? Visit the ' +\n",
              "            '<a target=\"_blank\" href=https://colab.research.google.com/notebooks/data_table.ipynb>data table notebook</a>'\n",
              "            + ' to learn more about interactive tables.';\n",
              "          element.innerHTML = '';\n",
              "          dataTable['output_type'] = 'display_data';\n",
              "          await google.colab.output.renderOutput(dataTable, element);\n",
              "          const docLink = document.createElement('div');\n",
              "          docLink.innerHTML = docLinkHtml;\n",
              "          element.appendChild(docLink);\n",
              "        }\n",
              "      </script>\n",
              "    </div>\n",
              "  </div>\n",
              "  "
            ]
          },
          "metadata": {},
          "execution_count": 144
        }
      ]
    },
    {
      "cell_type": "code",
      "source": [
        "#Getting average value of score at feature 75\n",
        "feature_75=df['75']\n",
        "feature_75=feature_75.tolist()\n",
        "feature_75=np.array(feature_75)\n",
        "avg = np.average(feature_75)\n",
        "print(avg)"
      ],
      "metadata": {
        "colab": {
          "base_uri": "https://localhost:8080/"
        },
        "id": "hii6z03A0f_p",
        "outputId": "a499be33-58bb-4197-a51c-c11cfd813d40"
      },
      "execution_count": null,
      "outputs": [
        {
          "output_type": "stream",
          "name": "stdout",
          "text": [
            "162.65848870873785\n"
          ]
        }
      ]
    },
    {
      "cell_type": "code",
      "source": [
        "#If the value is less than average then not relevant else relevant\n",
        "relevant_or_not=[]\n",
        "for i in range(len(df)):\n",
        "  if df['75'][i]<avg:\n",
        "    relevant_or_not.append(0)\n",
        "  else:\n",
        "    relevant_or_not.append(1)"
      ],
      "metadata": {
        "id": "umZLk_su6cpY"
      },
      "execution_count": null,
      "outputs": []
    },
    {
      "cell_type": "code",
      "source": [
        "# Calculating precision values in a list- Relevant Retrieved/ Retrieved \n",
        "precision_value=[]\n",
        "relevantdocuments=0\n",
        "documentscoveredtillthattime=0\n",
        "for i in range(len(relevant_or_not)):\n",
        "  if relevant_or_not[i]==1:\n",
        "    relevantdocuments=relevantdocuments+1\n",
        "  \n",
        "  \n",
        "  documentscoveredtillthattime=documentscoveredtillthattime+1\n",
        "  precision_value.append(float(relevantdocuments/float(documentscoveredtillthattime)))\n",
        "\n",
        "\n"
      ],
      "metadata": {
        "id": "fSeKqepB6zZe"
      },
      "execution_count": null,
      "outputs": []
    },
    {
      "cell_type": "code",
      "source": [
        "#Number of releavnt documents retrieved\n",
        "count=0\n",
        "for i in range(len(relevant_or_not)):\n",
        "  if relevant_or_not[i]==1:\n",
        "    count=count+1\n",
        "print(\"number of relevant documents with qid:4 while taking average as threshold ::  \",count)"
      ],
      "metadata": {
        "colab": {
          "base_uri": "https://localhost:8080/"
        },
        "id": "g0RAhoyL7oS1",
        "outputId": "aa4ee3eb-8880-47dc-e285-f8501ebd25d6"
      },
      "execution_count": null,
      "outputs": [
        {
          "output_type": "stream",
          "name": "stdout",
          "text": [
            "number of relevant documents with qid:4 while taking average as threshold ::   37\n"
          ]
        }
      ]
    },
    {
      "cell_type": "code",
      "source": [
        "#calculating recall values in a list- Recall = relevant retrieved / Total Relevant\n",
        "recall_value=[]\n",
        "relevantdocuments=0\n",
        "for i in range(len(relevant_or_not)):\n",
        "  if relevant_or_not[i]==1:\n",
        "    relevantdocuments=relevantdocuments+1\n",
        "  \n",
        "  recall_value.append(float(relevantdocuments/float(count)))\n",
        "\n",
        "\n"
      ],
      "metadata": {
        "id": "W8tIf_JX7oUw"
      },
      "execution_count": null,
      "outputs": []
    },
    {
      "cell_type": "code",
      "source": [
        "#Plotting the Precision vs recall curve\n",
        "import matplotlib.pyplot as plt\n",
        "plt.plot(recall_value, precision_value, color='green', linestyle='dashed', linewidth = 3, markerfacecolor='blue', markersize=12)\n",
        "plt.xlabel('recall value @K')\n",
        "plt.ylabel('precision value @K')\n",
        "plt.title('PR Curve')\n",
        "plt.show()"
      ],
      "metadata": {
        "colab": {
          "base_uri": "https://localhost:8080/",
          "height": 295
        },
        "id": "83SFx1gO93XV",
        "outputId": "20184e1e-d236-4660-ffed-022f41f45317"
      },
      "execution_count": null,
      "outputs": [
        {
          "output_type": "display_data",
          "data": {
            "text/plain": [
              "<Figure size 432x288 with 1 Axes>"
            ],
            "image/png": "[encoded data removed]"
          },
          "metadata": {
            "needs_background": "light"
          }
        }
      ]
    },
    {
      "cell_type": "code",
      "source": [
        ""
      ],
      "metadata": {
        "id": "tY0qxx7j-uql"
      },
      "execution_count": null,
      "outputs": []
    }
  ]
}